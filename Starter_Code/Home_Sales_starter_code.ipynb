{
 "cells": [
  {
   "cell_type": "code",
   "execution_count": 1,
   "metadata": {
    "colab": {
     "base_uri": "https://localhost:8080/"
    },
    "id": "a_KW73O2e3dw",
    "outputId": "fa5fd2b3-e2de-491b-ee1c-405317ba7ebc"
   },
   "outputs": [],
   "source": [
    "# Import findspark and initialize. \n",
    "import findspark\n",
    "findspark.init()"
   ]
  },
  {
   "cell_type": "code",
   "execution_count": 3,
   "metadata": {
    "id": "2XbWNf1Te5fM"
   },
   "outputs": [],
   "source": [
    "# Import packages\n",
    "from pyspark.sql import SparkSession\n",
    "import time\n",
    "\n",
    "# Create a SparkSession\n",
    "spark = SparkSession.builder.appName(\"SparkSQL\").getOrCreate()"
   ]
  },
  {
   "cell_type": "code",
   "execution_count": 4,
   "metadata": {
    "colab": {
     "base_uri": "https://localhost:8080/"
    },
    "id": "wOJqxG_RPSwp",
    "outputId": "7857ef9f-5b04-405d-f5aa-e535dfe7870c"
   },
   "outputs": [
    {
     "name": "stderr",
     "output_type": "stream",
     "text": [
      "23/07/31 13:49:19 WARN GarbageCollectionMetrics: To enable non-built-in garbage collector(s) List(G1 Concurrent GC), users should configure it(them) to spark.eventLog.gcMetrics.youngGenerationGarbageCollectors or spark.eventLog.gcMetrics.oldGenerationGarbageCollectors\n"
     ]
    },
    {
     "ename": "OSError",
     "evalue": "[Errno 30] Read-only file system: '/path'",
     "output_type": "error",
     "traceback": [
      "\u001b[0;31m---------------------------------------------------------------------------\u001b[0m",
      "\u001b[0;31mOSError\u001b[0m                                   Traceback (most recent call last)",
      "\u001b[0;32m/var/folders/sz/rr0n97ys1lggyvv12rb50jqm0000gn/T/ipykernel_41931/794417262.py\u001b[0m in \u001b[0;36m<module>\u001b[0;34m\u001b[0m\n\u001b[1;32m     14\u001b[0m \u001b[0;31m# Create the local directory if it does not exist\u001b[0m\u001b[0;34m\u001b[0m\u001b[0;34m\u001b[0m\u001b[0m\n\u001b[1;32m     15\u001b[0m \u001b[0;32mif\u001b[0m \u001b[0;32mnot\u001b[0m \u001b[0mos\u001b[0m\u001b[0;34m.\u001b[0m\u001b[0mpath\u001b[0m\u001b[0;34m.\u001b[0m\u001b[0mexists\u001b[0m\u001b[0;34m(\u001b[0m\u001b[0mlocal_directory\u001b[0m\u001b[0;34m)\u001b[0m\u001b[0;34m:\u001b[0m\u001b[0;34m\u001b[0m\u001b[0;34m\u001b[0m\u001b[0m\n\u001b[0;32m---> 16\u001b[0;31m     \u001b[0mos\u001b[0m\u001b[0;34m.\u001b[0m\u001b[0mmakedirs\u001b[0m\u001b[0;34m(\u001b[0m\u001b[0mlocal_directory\u001b[0m\u001b[0;34m)\u001b[0m\u001b[0;34m\u001b[0m\u001b[0;34m\u001b[0m\u001b[0m\n\u001b[0m\u001b[1;32m     17\u001b[0m \u001b[0;34m\u001b[0m\u001b[0m\n\u001b[1;32m     18\u001b[0m \u001b[0;31m# Download the file using urllib\u001b[0m\u001b[0;34m\u001b[0m\u001b[0;34m\u001b[0m\u001b[0m\n",
      "\u001b[0;32m/Applications/anaconda3/lib/python3.9/os.py\u001b[0m in \u001b[0;36mmakedirs\u001b[0;34m(name, mode, exist_ok)\u001b[0m\n\u001b[1;32m    213\u001b[0m     \u001b[0;32mif\u001b[0m \u001b[0mhead\u001b[0m \u001b[0;32mand\u001b[0m \u001b[0mtail\u001b[0m \u001b[0;32mand\u001b[0m \u001b[0;32mnot\u001b[0m \u001b[0mpath\u001b[0m\u001b[0;34m.\u001b[0m\u001b[0mexists\u001b[0m\u001b[0;34m(\u001b[0m\u001b[0mhead\u001b[0m\u001b[0;34m)\u001b[0m\u001b[0;34m:\u001b[0m\u001b[0;34m\u001b[0m\u001b[0;34m\u001b[0m\u001b[0m\n\u001b[1;32m    214\u001b[0m         \u001b[0;32mtry\u001b[0m\u001b[0;34m:\u001b[0m\u001b[0;34m\u001b[0m\u001b[0;34m\u001b[0m\u001b[0m\n\u001b[0;32m--> 215\u001b[0;31m             \u001b[0mmakedirs\u001b[0m\u001b[0;34m(\u001b[0m\u001b[0mhead\u001b[0m\u001b[0;34m,\u001b[0m \u001b[0mexist_ok\u001b[0m\u001b[0;34m=\u001b[0m\u001b[0mexist_ok\u001b[0m\u001b[0;34m)\u001b[0m\u001b[0;34m\u001b[0m\u001b[0;34m\u001b[0m\u001b[0m\n\u001b[0m\u001b[1;32m    216\u001b[0m         \u001b[0;32mexcept\u001b[0m \u001b[0mFileExistsError\u001b[0m\u001b[0;34m:\u001b[0m\u001b[0;34m\u001b[0m\u001b[0;34m\u001b[0m\u001b[0m\n\u001b[1;32m    217\u001b[0m             \u001b[0;31m# Defeats race condition when another thread created the path\u001b[0m\u001b[0;34m\u001b[0m\u001b[0;34m\u001b[0m\u001b[0m\n",
      "\u001b[0;32m/Applications/anaconda3/lib/python3.9/os.py\u001b[0m in \u001b[0;36mmakedirs\u001b[0;34m(name, mode, exist_ok)\u001b[0m\n\u001b[1;32m    213\u001b[0m     \u001b[0;32mif\u001b[0m \u001b[0mhead\u001b[0m \u001b[0;32mand\u001b[0m \u001b[0mtail\u001b[0m \u001b[0;32mand\u001b[0m \u001b[0;32mnot\u001b[0m \u001b[0mpath\u001b[0m\u001b[0;34m.\u001b[0m\u001b[0mexists\u001b[0m\u001b[0;34m(\u001b[0m\u001b[0mhead\u001b[0m\u001b[0;34m)\u001b[0m\u001b[0;34m:\u001b[0m\u001b[0;34m\u001b[0m\u001b[0;34m\u001b[0m\u001b[0m\n\u001b[1;32m    214\u001b[0m         \u001b[0;32mtry\u001b[0m\u001b[0;34m:\u001b[0m\u001b[0;34m\u001b[0m\u001b[0;34m\u001b[0m\u001b[0m\n\u001b[0;32m--> 215\u001b[0;31m             \u001b[0mmakedirs\u001b[0m\u001b[0;34m(\u001b[0m\u001b[0mhead\u001b[0m\u001b[0;34m,\u001b[0m \u001b[0mexist_ok\u001b[0m\u001b[0;34m=\u001b[0m\u001b[0mexist_ok\u001b[0m\u001b[0;34m)\u001b[0m\u001b[0;34m\u001b[0m\u001b[0;34m\u001b[0m\u001b[0m\n\u001b[0m\u001b[1;32m    216\u001b[0m         \u001b[0;32mexcept\u001b[0m \u001b[0mFileExistsError\u001b[0m\u001b[0;34m:\u001b[0m\u001b[0;34m\u001b[0m\u001b[0;34m\u001b[0m\u001b[0m\n\u001b[1;32m    217\u001b[0m             \u001b[0;31m# Defeats race condition when another thread created the path\u001b[0m\u001b[0;34m\u001b[0m\u001b[0;34m\u001b[0m\u001b[0m\n",
      "\u001b[0;32m/Applications/anaconda3/lib/python3.9/os.py\u001b[0m in \u001b[0;36mmakedirs\u001b[0;34m(name, mode, exist_ok)\u001b[0m\n\u001b[1;32m    213\u001b[0m     \u001b[0;32mif\u001b[0m \u001b[0mhead\u001b[0m \u001b[0;32mand\u001b[0m \u001b[0mtail\u001b[0m \u001b[0;32mand\u001b[0m \u001b[0;32mnot\u001b[0m \u001b[0mpath\u001b[0m\u001b[0;34m.\u001b[0m\u001b[0mexists\u001b[0m\u001b[0;34m(\u001b[0m\u001b[0mhead\u001b[0m\u001b[0;34m)\u001b[0m\u001b[0;34m:\u001b[0m\u001b[0;34m\u001b[0m\u001b[0;34m\u001b[0m\u001b[0m\n\u001b[1;32m    214\u001b[0m         \u001b[0;32mtry\u001b[0m\u001b[0;34m:\u001b[0m\u001b[0;34m\u001b[0m\u001b[0;34m\u001b[0m\u001b[0m\n\u001b[0;32m--> 215\u001b[0;31m             \u001b[0mmakedirs\u001b[0m\u001b[0;34m(\u001b[0m\u001b[0mhead\u001b[0m\u001b[0;34m,\u001b[0m \u001b[0mexist_ok\u001b[0m\u001b[0;34m=\u001b[0m\u001b[0mexist_ok\u001b[0m\u001b[0;34m)\u001b[0m\u001b[0;34m\u001b[0m\u001b[0;34m\u001b[0m\u001b[0m\n\u001b[0m\u001b[1;32m    216\u001b[0m         \u001b[0;32mexcept\u001b[0m \u001b[0mFileExistsError\u001b[0m\u001b[0;34m:\u001b[0m\u001b[0;34m\u001b[0m\u001b[0;34m\u001b[0m\u001b[0m\n\u001b[1;32m    217\u001b[0m             \u001b[0;31m# Defeats race condition when another thread created the path\u001b[0m\u001b[0;34m\u001b[0m\u001b[0;34m\u001b[0m\u001b[0m\n",
      "\u001b[0;32m/Applications/anaconda3/lib/python3.9/os.py\u001b[0m in \u001b[0;36mmakedirs\u001b[0;34m(name, mode, exist_ok)\u001b[0m\n\u001b[1;32m    213\u001b[0m     \u001b[0;32mif\u001b[0m \u001b[0mhead\u001b[0m \u001b[0;32mand\u001b[0m \u001b[0mtail\u001b[0m \u001b[0;32mand\u001b[0m \u001b[0;32mnot\u001b[0m \u001b[0mpath\u001b[0m\u001b[0;34m.\u001b[0m\u001b[0mexists\u001b[0m\u001b[0;34m(\u001b[0m\u001b[0mhead\u001b[0m\u001b[0;34m)\u001b[0m\u001b[0;34m:\u001b[0m\u001b[0;34m\u001b[0m\u001b[0;34m\u001b[0m\u001b[0m\n\u001b[1;32m    214\u001b[0m         \u001b[0;32mtry\u001b[0m\u001b[0;34m:\u001b[0m\u001b[0;34m\u001b[0m\u001b[0;34m\u001b[0m\u001b[0m\n\u001b[0;32m--> 215\u001b[0;31m             \u001b[0mmakedirs\u001b[0m\u001b[0;34m(\u001b[0m\u001b[0mhead\u001b[0m\u001b[0;34m,\u001b[0m \u001b[0mexist_ok\u001b[0m\u001b[0;34m=\u001b[0m\u001b[0mexist_ok\u001b[0m\u001b[0;34m)\u001b[0m\u001b[0;34m\u001b[0m\u001b[0;34m\u001b[0m\u001b[0m\n\u001b[0m\u001b[1;32m    216\u001b[0m         \u001b[0;32mexcept\u001b[0m \u001b[0mFileExistsError\u001b[0m\u001b[0;34m:\u001b[0m\u001b[0;34m\u001b[0m\u001b[0;34m\u001b[0m\u001b[0m\n\u001b[1;32m    217\u001b[0m             \u001b[0;31m# Defeats race condition when another thread created the path\u001b[0m\u001b[0;34m\u001b[0m\u001b[0;34m\u001b[0m\u001b[0m\n",
      "\u001b[0;32m/Applications/anaconda3/lib/python3.9/os.py\u001b[0m in \u001b[0;36mmakedirs\u001b[0;34m(name, mode, exist_ok)\u001b[0m\n\u001b[1;32m    223\u001b[0m             \u001b[0;32mreturn\u001b[0m\u001b[0;34m\u001b[0m\u001b[0;34m\u001b[0m\u001b[0m\n\u001b[1;32m    224\u001b[0m     \u001b[0;32mtry\u001b[0m\u001b[0;34m:\u001b[0m\u001b[0;34m\u001b[0m\u001b[0;34m\u001b[0m\u001b[0m\n\u001b[0;32m--> 225\u001b[0;31m         \u001b[0mmkdir\u001b[0m\u001b[0;34m(\u001b[0m\u001b[0mname\u001b[0m\u001b[0;34m,\u001b[0m \u001b[0mmode\u001b[0m\u001b[0;34m)\u001b[0m\u001b[0;34m\u001b[0m\u001b[0;34m\u001b[0m\u001b[0m\n\u001b[0m\u001b[1;32m    226\u001b[0m     \u001b[0;32mexcept\u001b[0m \u001b[0mOSError\u001b[0m\u001b[0;34m:\u001b[0m\u001b[0;34m\u001b[0m\u001b[0;34m\u001b[0m\u001b[0m\n\u001b[1;32m    227\u001b[0m         \u001b[0;31m# Cannot rely on checking for EEXIST, since the operating system\u001b[0m\u001b[0;34m\u001b[0m\u001b[0;34m\u001b[0m\u001b[0m\n",
      "\u001b[0;31mOSError\u001b[0m: [Errno 30] Read-only file system: '/path'"
     ]
    }
   ],
   "source": [
    "# 1. Read in the AWS S3 bucket into a DataFrame.\n",
    "\n",
    "import os\n",
    "import urllib\n",
    "from pyspark.sql import SparkSession\n",
    "\n",
    "# URL of the CSV file\n",
    "url = \"https://2u-data-curriculum-team.s3.amazonaws.com/dataviz-classroom/v1.2/22-big-data/home_sales_revised.csv\"\n",
    "\n",
    "# Local file path where the data will be downloaded\n",
    "local_directory = \"/path/to/your/local/folder\"\n",
    "local_file_path = os.path.join(local_directory, \"home_sales_revised.csv\")\n",
    "\n",
    "# Create the local directory if it does not exist\n",
    "if not os.path.exists(local_directory):\n",
    "    os.makedirs(local_directory)\n",
    "\n",
    "# Download the file using urllib\n",
    "urllib.request.urlretrieve(url, local_file_path)\n",
    "\n",
    "# Create a SparkSession\n",
    "spark = SparkSession.builder.appName(\"SparkSQL\").getOrCreate()\n",
    "\n",
    "# Read the data from the local file into a DataFrame\n",
    "df = spark.read.csv(\"file://\" + local_file_path, header=True, inferSchema=True)\n",
    "\n",
    "# Show the DataFrame\n",
    "df.show()"
   ]
  },
  {
   "cell_type": "code",
   "execution_count": null,
   "metadata": {
    "id": "RoljcJ7WPpnm"
   },
   "outputs": [],
   "source": [
    "# 2. Create a temporary view of the DataFrame.\n",
    "\n",
    "df.createOrReplaceTempView(\"home_sales_view\")\n"
   ]
  },
  {
   "cell_type": "code",
   "execution_count": null,
   "metadata": {
    "colab": {
     "base_uri": "https://localhost:8080/"
    },
    "id": "L6fkwOeOmqvq",
    "outputId": "bdded620-79c4-488d-c7a5-91c6799c419e"
   },
   "outputs": [],
   "source": [
    "# 3. What is the average price for a four bedroom house sold in each year rounded to two decimal places?\n",
    "from pyspark.sql import SparkSession\n",
    "from pyspark.sql.functions import round\n",
    "\n",
    "# Create a SparkSession\n",
    "spark = SparkSession.builder.appName(\"AveragePrice\").getOrCreate()\n",
    "\n",
    "# Create a temporary view for the DataFrame\n",
    "df.createOrReplaceTempView(\"home_sales_view\")\n",
    "\n",
    "# SQL query to calculate average price for a four-bedroom house sold in each year\n",
    "query = \"\"\"\n",
    "SELECT YEAR(date) as year, ROUND(AVG(price), 2) as average_price\n",
    "FROM home_sales_view\n",
    "WHERE bedrooms = 4\n",
    "GROUP BY YEAR(date)\n",
    "ORDER BY year\n",
    "\"\"\"\n",
    "\n",
    "# Execute the query and store the results in a new DataFrame\n",
    "result_df = spark.sql(query)\n",
    "\n",
    "# Show the results\n",
    "result_df.show()\n"
   ]
  },
  {
   "cell_type": "code",
   "execution_count": null,
   "metadata": {
    "colab": {
     "base_uri": "https://localhost:8080/"
    },
    "id": "l8p_tUS8h8it",
    "outputId": "65806e5f-6262-41c0-ff65-5107464e5c4d"
   },
   "outputs": [],
   "source": [
    "# 4. What is the average price of a home for each year the home was built that have 3 bedrooms and 3 bathrooms rounded to two decimal places?\n",
    "\n",
    "from pyspark.sql import SparkSession\n",
    "from pyspark.sql.functions import round\n",
    "\n",
    "# Create a SparkSession\n",
    "spark = SparkSession.builder.appName(\"AveragePriceByYearBuilt\").getOrCreate()\n",
    "\n",
    "# Create a temporary view for the DataFrame\n",
    "df.createOrReplaceTempView(\"home_sales_view\")\n",
    "\n",
    "# SQL query to calculate average price for homes with 3 bedrooms and 3 bathrooms by year built\n",
    "query = \"\"\"\n",
    "SELECT date_built as year_built, ROUND(AVG(price), 2) as average_price\n",
    "FROM home_sales_view\n",
    "WHERE bedrooms = 3 AND bathrooms = 3\n",
    "GROUP BY date_built\n",
    "ORDER BY date_built\n",
    "\"\"\"\n",
    "\n",
    "# Execute the query and store the results in a new DataFrame\n",
    "result_df = spark.sql(query)\n",
    "\n",
    "# Show the results\n",
    "result_df.show()"
   ]
  },
  {
   "cell_type": "code",
   "execution_count": null,
   "metadata": {
    "colab": {
     "base_uri": "https://localhost:8080/"
    },
    "id": "Y-Eytz64liDU",
    "outputId": "17119810-56ad-40c3-de5e-c3db57e43bcc"
   },
   "outputs": [],
   "source": [
    "#  5. What is the average price of a home for each year built that have 3 bedrooms, 3 bathrooms, with two floors,\n",
    "# and are greater than or equal to 2,000 square feet rounded to two decimal places?\n",
    "\n",
    "from pyspark.sql import SparkSession\n",
    "from pyspark.sql.functions import round\n",
    "\n",
    "# Create a SparkSession\n",
    "spark = SparkSession.builder.appName(\"AveragePriceByYearBuilt\").getOrCreate()\n",
    "\n",
    "# Create a temporary view for the DataFrame\n",
    "df.createOrReplaceTempView(\"home_sales_view\")\n",
    "\n",
    "# SQL query to calculate average price for homes with 3 bedrooms, 3 bathrooms, two floors,\n",
    "# and are greater than or equal to 2,000 square feet, by year built\n",
    "query = \"\"\"\n",
    "SELECT date_built as year_built, ROUND(AVG(price), 2) as average_price\n",
    "FROM home_sales_view\n",
    "WHERE bedrooms = 3 AND bathrooms = 3 AND floors = 2 AND sqft_living >= 2000\n",
    "GROUP BY date_built\n",
    "ORDER BY date_built\n",
    "\"\"\"\n",
    "\n",
    "# Execute the query and store the results in a new DataFrame\n",
    "result_df = spark.sql(query)\n",
    "\n",
    "# Show the results\n",
    "result_df.show()"
   ]
  },
  {
   "cell_type": "code",
   "execution_count": null,
   "metadata": {
    "colab": {
     "base_uri": "https://localhost:8080/"
    },
    "id": "GUrfgOX1pCRd",
    "outputId": "17c25774-855e-4290-a4bd-a04902bdc13a"
   },
   "outputs": [],
   "source": [
    "# 6. What is the \"view\" rating for the average price of a home, rounded to two decimal places, where the homes are greater than\n",
    "# or equal to $350,000? Although this is a small dataset, determine the run time for this query.\n",
    "\n",
    "from pyspark.sql import SparkSession\n",
    "from pyspark.sql.functions import avg, round\n",
    "import time\n",
    "\n",
    "# Create a SparkSession\n",
    "spark = SparkSession.builder.appName(\"ViewRating\").getOrCreate()\n",
    "\n",
    "# Create a temporary view for the DataFrame\n",
    "df.createOrReplaceTempView(\"home_sales_view\")\n",
    "\n",
    "# Measure the start time of the query execution\n",
    "start_time = time.time()\n",
    "\n",
    "# SQL query to calculate average price for homes greater than or equal to $350,000\n",
    "query = \"\"\"\n",
    "SELECT ROUND(AVG(price), 2) as average_price\n",
    "FROM home_sales_view\n",
    "WHERE price >= 350000\n",
    "\"\"\"\n",
    "\n",
    "# Execute the query and store the result in a new DataFrame\n",
    "result_df = spark.sql(query)\n",
    "\n",
    "# Extract the \"average_price\" value from the DataFrame result\n",
    "view_rating = float(result_df.collect()[0][\"average_price\"])\n",
    "\n",
    "# Measure the end time of the query execution\n",
    "end_time = time.time()\n",
    "\n",
    "# Show the \"view\" rating for the average price (rounded to two decimal places)\n",
    "print(\"View Rating for Average Price (rounded to two decimal places): {:.2f}\".format(view_rating))\n",
    "\n",
    "# Calculate and display the runtime of the query\n",
    "runtime = end_time - start_time\n",
    "print(\"Query Runtime:\", runtime, \"seconds\")"
   ]
  },
  {
   "cell_type": "code",
   "execution_count": null,
   "metadata": {
    "colab": {
     "base_uri": "https://localhost:8080/"
    },
    "id": "KAhk3ZD2tFy8",
    "outputId": "0a8f132d-40a8-4bd4-b5f2-2847e98427f5"
   },
   "outputs": [],
   "source": [
    "# 7. Cache the the temporary table home_sales.\n",
    "from pyspark.sql import SparkSession\n",
    "from pyspark.sql.functions import avg, round\n",
    "import time\n",
    "\n",
    "# Create a SparkSession\n",
    "spark = SparkSession.builder.appName(\"ViewRating\").getOrCreate()\n",
    "\n",
    "# Create a temporary view for the DataFrame\n",
    "df.createOrReplaceTempView(\"home_sales_view\")\n",
    "\n",
    "# Cache the temporary table\n",
    "spark.catalog.cacheTable(\"home_sales_view\")\n",
    "\n",
    "# Measure the start time of the query execution\n",
    "start_time = time.time()\n",
    "\n",
    "# SQL query to calculate average price for homes greater than or equal to $350,000\n",
    "query = \"\"\"\n",
    "SELECT ROUND(AVG(price), 2) as average_price\n",
    "FROM home_sales_view\n",
    "WHERE price >= 350000\n",
    "\"\"\"\n",
    "\n",
    "# Execute the query and store the result in a new DataFrame\n",
    "result_df = spark.sql(query)\n",
    "\n",
    "# Extract the \"average_price\" value from the DataFrame result\n",
    "view_rating = float(result_df.collect()[0][\"average_price\"])\n",
    "\n",
    "# Measure the end time of the query execution\n",
    "end_time = time.time()\n",
    "\n",
    "# Show the \"view\" rating for the average price (rounded to two decimal places)\n",
    "print(\"View Rating for Average Price (rounded to two decimal places): {:.2f}\".format(view_rating))\n",
    "\n",
    "# Calculate and display the runtime of the query\n",
    "runtime = end_time - start_time\n",
    "print(\"Query Runtime:\", runtime, \"seconds\")"
   ]
  },
  {
   "cell_type": "code",
   "execution_count": null,
   "metadata": {
    "colab": {
     "base_uri": "https://localhost:8080/"
    },
    "id": "4opVhbvxtL-i",
    "outputId": "38ec8487-795f-4550-b50c-fcc6f2b7c769"
   },
   "outputs": [],
   "source": [
    "# 8. Check if the table is cached.\n",
    "from pyspark.sql import SparkSession\n",
    "from pyspark.sql.functions import avg, round\n",
    "import time\n",
    "\n",
    "# Create a SparkSession\n",
    "spark = SparkSession.builder.appName(\"ViewRating\").getOrCreate()\n",
    "\n",
    "# Create a temporary view for the DataFrame\n",
    "df.createOrReplaceTempView(\"home_sales_view\")\n",
    "\n",
    "# Cache the temporary table\n",
    "spark.catalog.cacheTable(\"home_sales_view\")\n",
    "\n",
    "# Check if the table is cached\n",
    "is_cached = spark.catalog.isCached(\"home_sales_view\")\n",
    "\n",
    "# Print the result\n",
    "print(\"Is 'home_sales_view' cached?\", is_cached)"
   ]
  },
  {
   "cell_type": "code",
   "execution_count": null,
   "metadata": {
    "colab": {
     "base_uri": "https://localhost:8080/"
    },
    "id": "5GnL46lwTSEk",
    "outputId": "09a16c73-194d-4371-95d1-ee64fe83b91c"
   },
   "outputs": [],
   "source": [
    "# 9. Using the cached data, run the query that filters out the view ratings with average price \n",
    "#  greater than or equal to $350,000. Determine the runtime and compare it to uncached runtime.\n",
    "\n",
    "from pyspark.sql import SparkSession\n",
    "from pyspark.sql.functions import avg, round\n",
    "import time\n",
    "\n",
    "# Create a SparkSession\n",
    "spark = SparkSession.builder.appName(\"ViewRating\").getOrCreate()\n",
    "\n",
    "# Create a temporary view for the DataFrame\n",
    "df.createOrReplaceTempView(\"home_sales_view\")\n",
    "\n",
    "# Cache the temporary table\n",
    "spark.catalog.cacheTable(\"home_sales_view\")\n",
    "\n",
    "# Measure the start time of the query execution\n",
    "start_time_cached = time.time()\n",
    "\n",
    "# SQL query to calculate average price for homes greater than or equal to $350,000 using the cached data\n",
    "query_cached = \"\"\"\n",
    "SELECT ROUND(AVG(price), 2) as average_price\n",
    "FROM home_sales_view\n",
    "WHERE price >= 350000\n",
    "\"\"\"\n",
    "\n",
    "# Execute the query and store the result in a new DataFrame\n",
    "result_df_cached = spark.sql(query_cached)\n",
    "\n",
    "# Extract the \"average_price\" value from the DataFrame result\n",
    "view_rating_cached = float(result_df_cached.collect()[0][\"average_price\"])\n",
    "\n",
    "# Measure the end time of the query execution\n",
    "end_time_cached = time.time()\n",
    "\n",
    "# Show the \"view\" rating for the average price (rounded to two decimal places) using cached data\n",
    "print(\"View Rating for Average Price (rounded to two decimal places) with cached data: {:.2f}\".format(view_rating_cached))\n",
    "\n",
    "# Calculate and display the runtime of the query using cached data\n",
    "runtime_cached = end_time_cached - start_time_cached\n",
    "print(\"Query Runtime with cached data:\", runtime_cached, \"seconds\")\n",
    "\n",
    "# Measure the start time of the query execution without using cached data\n",
    "start_time_uncached = time.time()\n",
    "\n",
    "# SQL query to calculate average price for homes greater than or equal to $350,000 without using cached data\n",
    "query_uncached = \"\"\"\n",
    "SELECT ROUND(AVG(price), 2) as average_price\n",
    "FROM home_sales_view\n",
    "WHERE price >= 350000\n",
    "\"\"\"\n",
    "\n",
    "# Execute the query and store the result in a new DataFrame\n",
    "result_df_uncached = spark.sql(query_uncached)\n",
    "\n",
    "# Extract the \"average_price\" value from the DataFrame result\n",
    "view_rating_uncached = float(result_df_uncached.collect()[0][\"average_price\"])\n",
    "\n",
    "# Measure the end time of the query execution without using cached data\n",
    "end_time_uncached = time.time()\n",
    "\n",
    "# Show the \"view\" rating for the average price (rounded to two decimal places) without using cached data\n",
    "print(\"View Rating for Average Price (rounded to two decimal places) without cached data: {:.2f}\".format(view_rating_uncached))\n",
    "\n",
    "# Calculate and display the runtime of the query without using cached data\n",
    "runtime_uncached = end_time_uncached - start_time_uncached\n",
    "print(\"Query Runtime without cached data:\", runtime_uncached, \"seconds\")\n"
   ]
  },
  {
   "cell_type": "code",
   "execution_count": null,
   "metadata": {
    "id": "Qm12WN9isHBR"
   },
   "outputs": [],
   "source": [
    "# 10. Partition by the \"date_built\" field on the formatted parquet home sales data\n",
    "# Assuming you have the DataFrame 'df' created and formatted as Parquet from the previous code\n",
    "\n",
    "# Write the DataFrame to Parquet format and partition by the \"date_built\" field\n",
    "df.write.partitionBy(\"date_built\").parquet(\"/path/to/parquet_output\")\n"
   ]
  },
  {
   "cell_type": "code",
   "execution_count": null,
   "metadata": {
    "id": "AZ7BgY61sRqY"
   },
   "outputs": [],
   "source": [
    "# 11. Read the formatted parquet data.\n",
    "from pyspark.sql import SparkSession\n",
    "\n",
    "# Create a SparkSession\n",
    "spark = SparkSession.builder.appName(\"ReadParquetData\").getOrCreate()\n",
    "\n",
    "# Read the Parquet data with partitions\n",
    "parquet_data = spark.read.format(\"parquet\").load(\"/path/to/parquet_output\")\n",
    "\n",
    "# Show the data\n",
    "parquet_data.show()"
   ]
  },
  {
   "cell_type": "code",
   "execution_count": null,
   "metadata": {
    "id": "J6MJkHfvVcvh"
   },
   "outputs": [],
   "source": [
    "# 12. Create a temporary table for the parquet data.\n",
    "parquet_data.createOrReplaceTempView(\"parquet_data_view\")"
   ]
  },
  {
   "cell_type": "code",
   "execution_count": null,
   "metadata": {
    "colab": {
     "base_uri": "https://localhost:8080/"
    },
    "id": "G_Vhb52rU1Sn",
    "outputId": "a0b8d0c4-55ed-4c6c-bfd8-4c8c5334838e"
   },
   "outputs": [],
   "source": [
    "# 13. Run the query that filters out the view ratings with average price of greater than or eqaul to $350,000 \n",
    "# with the parquet DataFrame. Round your average to two decimal places. \n",
    "# Determine the runtime and compare it to the cached version. \n",
    "# Register the DataFrame as a temporary view\n",
    "parquet_data.createOrReplaceTempView(\"parquet_data_view\")\n",
    "\n",
    "# Measure the start time of the query execution\n",
    "start_time_uncached = time.time()\n",
    "\n",
    "# SQL query to calculate the average price for homes greater than or equal to $350,000\n",
    "query_uncached = \"\"\"\n",
    "SELECT ROUND(AVG(price), 2) as average_price\n",
    "FROM parquet_data_view\n",
    "WHERE price >= 350000\n",
    "\"\"\"\n",
    "\n",
    "# Execute the query and store the result in a new DataFrame\n",
    "result_df_uncached = spark.sql(query_uncached)\n",
    "\n",
    "# Extract the \"average_price\" value from the DataFrame result\n",
    "view_rating_uncached = float(result_df_uncached.collect()[0][\"average_price\"])\n",
    "\n",
    "# Measure the end time of the query execution\n",
    "end_time_uncached = time.time()\n",
    "\n",
    "# Show the \"view\" rating for the average price (rounded to two decimal places) without using cached data\n",
    "print(\"View Rating for Average Price (rounded to two decimal places) without cached data: {:.2f}\".format(view_rating_uncached))\n",
    "\n",
    "# Calculate and display the runtime of the query without using cached data\n",
    "runtime_uncached = end_time_uncached - start_time_uncached\n",
    "print(\"Query Runtime without cached data:\", runtime_uncached, \"seconds\")"
   ]
  },
  {
   "cell_type": "code",
   "execution_count": null,
   "metadata": {
    "colab": {
     "base_uri": "https://localhost:8080/"
    },
    "id": "hjjYzQGjtbq8",
    "outputId": "830549fd-bb41-451b-9183-5ebf6e3e470b"
   },
   "outputs": [],
   "source": [
    "# 14. Uncache the home_sales temporary table.\n",
    "\n",
    "# Assuming you have the DataFrame 'df' created and cached as the DataFrame \"home_sales\"\n",
    "\n",
    "# Unpersist the cached DataFrame\n",
    "df.unpersist()\n",
    "\n",
    "# Check if the table is still cached (should return False)\n",
    "is_cached = df.is_cached\n",
    "print(\"Is 'home_sales' cached?\", is_cached)"
   ]
  },
  {
   "cell_type": "code",
   "execution_count": null,
   "metadata": {
    "colab": {
     "base_uri": "https://localhost:8080/"
    },
    "id": "Sy9NBvO7tlmm",
    "outputId": "be73e0e3-5e85-4794-aad9-025fb6fa84a7"
   },
   "outputs": [],
   "source": [
    "# 15. Check if the home_sales is no longer cached\n",
    "\n",
    "# Assuming you have the DataFrame 'df' created and cached as the DataFrame \"home_sales\"\n",
    "\n",
    "# Assuming you have the DataFrame 'df' created and cached as the DataFrame \"home_sales\"\n",
    "\n",
    "# Unpersist the cached DataFrame\n",
    "df.unpersist()\n",
    "\n",
    "# Check if the DataFrame is still cached\n",
    "is_cached = df.is_cached\n",
    "\n",
    "if not is_cached:\n",
    "    print(\"DataFrame 'home_sales' is no longer cached.\")\n",
    "else:\n",
    "    print(\"DataFrame 'home_sales' is still cached.\")\n"
   ]
  },
  {
   "cell_type": "code",
   "execution_count": null,
   "metadata": {},
   "outputs": [],
   "source": []
  }
 ],
 "metadata": {
  "colab": {
   "collapsed_sections": [],
   "name": "Copy of Home_Sales_solution.ipynb",
   "provenance": []
  },
  "kernelspec": {
   "display_name": "Python 3 (ipykernel)",
   "language": "python",
   "name": "python3"
  },
  "language_info": {
   "codemirror_mode": {
    "name": "ipython",
    "version": 3
   },
   "file_extension": ".py",
   "mimetype": "text/x-python",
   "name": "python",
   "nbconvert_exporter": "python",
   "pygments_lexer": "ipython3",
   "version": "3.9.13"
  },
  "nteract": {
   "version": "0.28.0"
  }
 },
 "nbformat": 4,
 "nbformat_minor": 1
}
