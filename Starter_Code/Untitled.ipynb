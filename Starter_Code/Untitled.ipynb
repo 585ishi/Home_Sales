{
 "cells": [
  {
   "cell_type": "code",
   "execution_count": 3,
   "id": "5bf6a0e3",
   "metadata": {},
   "outputs": [
    {
     "name": "stdout",
     "output_type": "stream",
     "text": [
      "+---+----------+\n",
      "|ids|      rows|\n",
      "+---+----------+\n",
      "|  0| First row|\n",
      "|  1|Second row|\n",
      "|  2| Third row|\n",
      "+---+----------+\n",
      "\n"
     ]
    }
   ],
   "source": [
    "# Import and initialize findspark\n",
    "import findspark\n",
    "findspark.init()\n",
    "\n",
    "# Start Spark session\n",
    "from pyspark.sql import SparkSession\n",
    "spark = SparkSession.builder.appName(\"Testing\").getOrCreate()\n",
    "\n",
    "\n",
    "# Create a Spark DataFrame\n",
    "df = spark.createDataFrame([\n",
    "(0, \"First row\"),\n",
    "(1, \"Second row\"),\n",
    "(2, \"Third row\")\n",
    "], [\"ids\", \"rows\"])\n",
    "\n",
    "df.show()"
   ]
  },
  {
   "cell_type": "code",
   "execution_count": null,
   "id": "ee5f3131",
   "metadata": {},
   "outputs": [],
   "source": []
  }
 ],
 "metadata": {
  "kernelspec": {
   "display_name": "Python 3 (ipykernel)",
   "language": "python",
   "name": "python3"
  },
  "language_info": {
   "codemirror_mode": {
    "name": "ipython",
    "version": 3
   },
   "file_extension": ".py",
   "mimetype": "text/x-python",
   "name": "python",
   "nbconvert_exporter": "python",
   "pygments_lexer": "ipython3",
   "version": "3.9.13"
  }
 },
 "nbformat": 4,
 "nbformat_minor": 5
}
